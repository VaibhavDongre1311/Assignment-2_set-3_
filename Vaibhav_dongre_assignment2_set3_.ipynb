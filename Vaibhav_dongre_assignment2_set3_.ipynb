{
  "nbformat": 4,
  "nbformat_minor": 0,
  "metadata": {
    "colab": {
      "provenance": []
    },
    "kernelspec": {
      "name": "python3",
      "display_name": "Python 3"
    },
    "language_info": {
      "name": "python"
    }
  },
  "cells": [
    {
      "cell_type": "markdown",
      "source": [
        "\n",
        "#                  **Topics: Confidence Intervals**\n",
        "\n",
        " **1**.\tFor each of the following statements, indicate whether it is True/False. If false, explain why.\n",
        "\n",
        "I.\tThe sample size of the survey should at least be a fixed percentage of the population size in order to produce representative results.\n",
        "\n",
        "II.\tThe sampling frame is a list of every item that appears in a survey sample, including those that did not respond to questions.\n",
        "\n",
        "III.\tLarger surveys convey a more accurate impression of the population than smaller surveys.\n",
        "\n"
      ],
      "metadata": {
        "id": "WIgcfeNG0BqP"
      }
    },
    {
      "cell_type": "markdown",
      "source": [
        "**Answer**"
      ],
      "metadata": {
        "id": "4eC5GBL9ohiE"
      }
    },
    {
      "cell_type": "markdown",
      "source": [
        "**I**.False sample size is not depend on the fixed percentage of popultion size  sample size total depend upon number of as per central limit theorem more the  number of obsevation in sample it tends to the normal distributionand it depennds on the other factor like confidance interval"
      ],
      "metadata": {
        "id": "GMZ27m530KCV"
      }
    },
    {
      "cell_type": "markdown",
      "source": [
        "II.false \n",
        "\n",
        "It is used to create the sample by selecting a subset of the population to be included in the survey. The sampling frame should ideally be complete and accurate, but it does not include those who did not respond to the survey questions."
      ],
      "metadata": {
        "id": "WD6W6YBm2UAo"
      }
    },
    {
      "cell_type": "markdown",
      "source": [
        "III.True"
      ],
      "metadata": {
        "id": "-6aO6L4JoVs9"
      }
    },
    {
      "cell_type": "code",
      "source": [],
      "metadata": {
        "id": "J4zqxdJ23gP3"
      },
      "execution_count": null,
      "outputs": []
    },
    {
      "cell_type": "markdown",
      "source": [
        "**2.**\tPC Magazine asked all of its readers to participate in a survey of their satisfaction with different brands of electronics. In the 2004 survey, which was included in an issue of the magazine that year, more than 9000 readers rated the products on a scale from 1 to 10. The magazine reported that the average rating assigned by 225 readers to a Kodak compact digital camera was 7.5. For this product, identify the following:\n",
        "\n",
        "A.\tThe population\n",
        "\n",
        "B.\tThe parameter of interest\n",
        "\n",
        "C.\tThe sampling frame\n",
        "\n",
        "D.\tThe sample size\n",
        "\n",
        "E.\tThe sampling design\n",
        "\n",
        "F.\tAny potential sources of bias or other problems with the survey or sample\n",
        "\n"
      ],
      "metadata": {
        "id": "Ixfb0pN-pkOW"
      }
    },
    {
      "cell_type": "markdown",
      "source": [
        "**Answer**"
      ],
      "metadata": {
        "id": "2Fpb4E_xq1b-"
      }
    },
    {
      "cell_type": "markdown",
      "source": [
        "A. All the readers of PC Magazine\n",
        "\n",
        "B. Population size,Average,Raiting Scale,Sample Size\n",
        "\n",
        "C. 9000 all readers responded to that survey\n",
        "\n",
        "D. 225\n",
        "\n",
        "E. Rating given or Response\n",
        "\n",
        "F.Here the data selection process not biased but the data cosidered only among the readers of this Magazine \n",
        "  and actually we need the data from all people of diiferent electronic gadget users"
      ],
      "metadata": {
        "id": "q-crSm_iq5qu"
      }
    },
    {
      "cell_type": "code",
      "source": [],
      "metadata": {
        "id": "OJoPZyg53hrm"
      },
      "execution_count": null,
      "outputs": []
    },
    {
      "cell_type": "markdown",
      "source": [
        "**3.**\tFor each of the following statements, indicate whether it is True/False. If false, explain why.\n",
        "\n",
        "I.\tIf the 95% confidence interval for the average purchase of customers at a   department store is $50 to $110, then $100 is a plausible value for the population mean at this level of confidence.\n",
        "\n",
        "II.\tIf the 95% confidence interval for the number of moviegoers who purchase concessions is 30% to 45%, this means that fewer than half of all moviegoers purchase concessions.\n",
        "\n",
        "III.\tThe 95% Confidence-Interval for μ only applies if the sample data are nearly normally distributed.\n"
      ],
      "metadata": {
        "id": "rkTPYBrquT-c"
      }
    },
    {
      "cell_type": "markdown",
      "source": [
        "**Answer**"
      ],
      "metadata": {
        "id": "UgDxo7fIuhM7"
      }
    },
    {
      "cell_type": "markdown",
      "source": [
        "I.True"
      ],
      "metadata": {
        "id": "K-bRwE6cukkT"
      }
    },
    {
      "cell_type": "markdown",
      "source": [
        "II.False .\n",
        "A 95% confidence interval means that we can be 95% confident that the true population proportion falls within the interval. Therefore, we cannot infer that fewer than half of all moviegoers purchase concessions based on this confidence interval alone"
      ],
      "metadata": {
        "id": "fF_Tad3ov-VE"
      }
    },
    {
      "cell_type": "markdown",
      "source": [
        "III.False.for 95% confidance interval we have to assume that sample size will  be more as per the centrl limt theorem if sample size is not much more and data is not distributed then we consider as a t statistical test"
      ],
      "metadata": {
        "id": "9-Z3yHdyx8G_"
      }
    },
    {
      "cell_type": "code",
      "source": [],
      "metadata": {
        "id": "5_YCg-Cs3kdu"
      },
      "execution_count": null,
      "outputs": []
    },
    {
      "cell_type": "markdown",
      "source": [
        "4.\tWhat are the chances that  X>u?\n",
        "\n",
        "A.\t¼ \n",
        "B.\t½ \n",
        "C.\t¾ \n",
        "D.\t1\n",
        "\n"
      ],
      "metadata": {
        "id": "rZN91-kT0LF0"
      }
    },
    {
      "cell_type": "markdown",
      "source": [
        "\n",
        "**Answer**"
      ],
      "metadata": {
        "id": "mAWtZdtH0arD"
      }
    },
    {
      "cell_type": "code",
      "source": [
        "B"
      ],
      "metadata": {
        "id": "hzC-AHbW0m8u"
      },
      "execution_count": null,
      "outputs": []
    },
    {
      "cell_type": "markdown",
      "source": [
        "**5.**\tIn January 2005, a company that monitors Internet traffic (WebSideStory) reported that its sampling revealed that the Mozilla Firefox browser launched in 2004 had grabbed a 4.6% share of the market.\n",
        "\n",
        "I.\tIf the sample were based on 2,000 users, could Microsoft conclude that Mozilla has a less than 5% share of the market?\n",
        "\n",
        "II.\tWebSideStory claims that its sample includes all the daily Internet users. If that’s the case, then can Microsoft conclude that Mozilla has a less than 5% share of the market?\n"
      ],
      "metadata": {
        "id": "d-0ByQwe0o4T"
      }
    },
    {
      "cell_type": "markdown",
      "source": [
        "**Answer**"
      ],
      "metadata": {
        "id": "tBzN5Ua10w0A"
      }
    },
    {
      "cell_type": "markdown",
      "source": [
        "**I**.\n",
        "\n",
        "Here STD not gave so we can find Z transform if np>=5,nq>=5,\n",
        "z=(mean(x)-mu)/(STDpop/sqrt(n)) this can be \n",
        "written for any binomial distribution for the\n",
        " previous conditions as z_value=(mean(x)-mu)/sqrt((p*(1-p))/n)\n",
        "\n",
        "H0=>5%\n",
        "\n",
        "Ha<5%"
      ],
      "metadata": {
        "id": "yC9_aUV5L5qR"
      }
    },
    {
      "cell_type": "code",
      "source": [
        "import numpy as np\n",
        "import scipy.stats as stats\n",
        "p=0.05\n",
        "q=1-p\n",
        "alpha=0.05 \n",
        "phat=0.046\n",
        "n=2000\n",
        "#Here we uses one sample z test for proportins\n",
        "z_score=(phat-p)/(np.sqrt(p*q/n))\n",
        "print(z_score)\n",
        "p_value=1-stats.norm.cdf(abs(z_score))\n",
        "print(\"p_value:\",p_value)\n"
      ],
      "metadata": {
        "colab": {
          "base_uri": "https://localhost:8080/"
        },
        "id": "7poawM7RQB9b",
        "outputId": "23deb7fb-5cad-4a97-d65a-03a972c6c71b"
      },
      "execution_count": 1,
      "outputs": [
        {
          "output_type": "stream",
          "name": "stdout",
          "text": [
            "-0.820782681668124\n",
            "p_value: 0.20588503245107104\n"
          ]
        }
      ]
    },
    {
      "cell_type": "markdown",
      "source": [
        "# here p value is less so that we dont have that much confidance to rehegt null hypothesis we will go with null  hypothesis so Mozilla has a more than 5% share of the market"
      ],
      "metadata": {
        "id": "ICo8lGIuXaA8"
      }
    },
    {
      "cell_type": "markdown",
      "source": [
        "**II.**\n"
      ],
      "metadata": {
        "id": "6WHQyH2fQWR8"
      }
    },
    {
      "cell_type": "markdown",
      "source": [
        "if its sample includes all the daily Internet users then it will be population In problem mentioned that 4.6% of share grabbed.So the claim would be correct as per given survey stats"
      ],
      "metadata": {
        "id": "kn66ypmuQaoZ"
      }
    },
    {
      "cell_type": "code",
      "source": [],
      "metadata": {
        "id": "EPeYQY4jZcZP"
      },
      "execution_count": null,
      "outputs": []
    },
    {
      "cell_type": "markdown",
      "source": [
        "**6.**\n",
        "\n",
        "A book publisher monitors the size of shipments of its textbooks to university bookstores. For a sample of texts used at various schools,the 95% confidence interval for the size of the shipment was 250 ± 45 books.Which, if any, of the following interpretations of this interval are \n",
        "correct?\n",
        "\n",
        "A.\tAll shipments are between 205 and 295 books.\n",
        "\n",
        "B.\t95% of shipments are between 205 and 295 books.\n",
        "\n",
        "C.\tThe procedure that produced this interval generates ranges that hold the population mean for 95% of samples.\n",
        "\n",
        "D.\tIf we get another sample, then we can be 95% sure that the mean of this second sample is between 205 and 295.\n",
        "\n",
        "E.\tWe can be 95% confident that the range 160 to 340 holds the population mean.\n"
      ],
      "metadata": {
        "id": "T0P8VdZvaKMG"
      }
    },
    {
      "cell_type": "markdown",
      "source": [
        "**Answer**\n"
      ],
      "metadata": {
        "id": "qD4lDR63cMc8"
      }
    },
    {
      "cell_type": "markdown",
      "source": [
        "**A.** **False**. Beacause only 95% books are belongs to the range of 250+-45.Rest 5% can be out of this range"
      ],
      "metadata": {
        "id": "ETLXsy1JcUKj"
      }
    },
    {
      "cell_type": "markdown",
      "source": [
        "**B. True**"
      ],
      "metadata": {
        "id": "WxmGyv3lcX9k"
      }
    },
    {
      "cell_type": "markdown",
      "source": [
        "**C.True**"
      ],
      "metadata": {
        "id": "g7pc8-Pkdfk1"
      }
    },
    {
      "cell_type": "markdown",
      "source": [
        "**D.True**"
      ],
      "metadata": {
        "id": "XXGx4P3pdtqg"
      }
    },
    {
      "cell_type": "markdown",
      "source": [
        "**E. False** . The mean will lie between +1sigma for CI 97.5%.So the population mean lie between (+-3*sigma)\n"
      ],
      "metadata": {
        "id": "RmU6CJ4YeFn4"
      }
    },
    {
      "cell_type": "code",
      "source": [],
      "metadata": {
        "id": "xdCIPlVzZs4P"
      },
      "execution_count": null,
      "outputs": []
    },
    {
      "cell_type": "markdown",
      "source": [
        "**7.**Which is shorter: a 95% z-interval or a 95% t-interval \n",
        "\n",
        "for μ if we know that σ =s?\n",
        "\n",
        "A.\tThe z-interval is shorter\n",
        "\n",
        "B.\tThe t-interval is shorter\n",
        "\n",
        "C.\tBoth are equal\n",
        "\n",
        "D.\tWe cannot say\n",
        "\n",
        "\n",
        "\n"
      ],
      "metadata": {
        "id": "FLXkZb-qiZO1"
      }
    },
    {
      "cell_type": "markdown",
      "source": [
        "**Answer**"
      ],
      "metadata": {
        "id": "bKv6L4X-lZRy"
      }
    },
    {
      "cell_type": "markdown",
      "source": [
        "# the T interval is shorter This is because the t-distribution has fatter tails than the standard normal distribution, and so the t-interval will be more conservative than the z-interval."
      ],
      "metadata": {
        "id": "rvH2c8fejc-Q"
      }
    },
    {
      "cell_type": "code",
      "source": [],
      "metadata": {
        "id": "xITZbGYzeUVP"
      },
      "execution_count": null,
      "outputs": []
    },
    {
      "cell_type": "markdown",
      "source": [
        "Questions 8 and 9 are based on the following: To prepare a report on the economy, \n",
        "\n",
        "analysts need to estimate the percentage of businesses that plan to hire additional\n",
        "\n",
        "employees in the next 60 days.\n",
        "\n",
        "**8.** How many randomly selected employers (minimum number) must we contact in order to guarantee a margin of error of no more than 4% (at 95% confidence)?\n",
        "\n",
        "A.\t600\n",
        "\n",
        "B.\t400\n",
        "\n",
        "C.\t550\n",
        "\n",
        "D.\t1000\n",
        "\n",
        "\n",
        "**9.** Suppose we want the above margin of error to be based on a 98% confidence level. What sample size (minimum) must we now use?\n",
        "\n",
        "A.\t1000\n",
        "\n",
        "B.\t757\n",
        "\n",
        "C.\t848\n",
        "\n",
        "D.\t543\n",
        "\n"
      ],
      "metadata": {
        "id": "avzHiIz_meh8"
      }
    },
    {
      "cell_type": "markdown",
      "source": [
        "**Answer**"
      ],
      "metadata": {
        "id": "d6UOUZ50pcZx"
      }
    },
    {
      "cell_type": "markdown",
      "source": [
        "**8.**\n",
        "\n",
        "Error=z/((p*q)/sqrt(n))\n",
        "\n",
        "n=(Error)^2(p*q)/z"
      ],
      "metadata": {
        "id": "rTEq3mQhpl0R"
      }
    },
    {
      "cell_type": "code",
      "source": [
        "\n",
        "phat=0.5\n",
        "q=0.5\n",
        "CI=0.95\n",
        "alpha=1-CI\n",
        "z_value=stats.norm.ppf(alpha/2)\n",
        "z_value\n",
        "n=(((z_value)**2)*0.5*0.5/(0.04)**2)\n",
        "round(n)\n",
        "#Answer A\n",
        "\n"
      ],
      "metadata": {
        "colab": {
          "base_uri": "https://localhost:8080/"
        },
        "id": "jJsbsms0qCqX",
        "outputId": "5cc7d8f9-300d-45a9-cc40-81f46e2c7514"
      },
      "execution_count": null,
      "outputs": [
        {
          "output_type": "execute_result",
          "data": {
            "text/plain": [
              "600"
            ]
          },
          "metadata": {},
          "execution_count": 108
        }
      ]
    },
    {
      "cell_type": "code",
      "source": [
        "9."
      ],
      "metadata": {
        "id": "jFnUMyl-qPJv"
      },
      "execution_count": null,
      "outputs": []
    },
    {
      "cell_type": "code",
      "source": [
        "\n",
        "phat=0.5\n",
        "q=0.5\n",
        "CI=0.98\n",
        "alpha2=1-CI\n",
        "z_value2=stats.norm.ppf((alpha2)/2)\n",
        "z_value2\n",
        "n=(((z_value2)**2)*0.5*0.5/(0.04)**2)\n",
        "round(n)"
      ],
      "metadata": {
        "colab": {
          "base_uri": "https://localhost:8080/"
        },
        "id": "UCvpdi0_tTSM",
        "outputId": "108985c0-769b-4530-b243-5de6bb10b8ba"
      },
      "execution_count": null,
      "outputs": [
        {
          "output_type": "execute_result",
          "data": {
            "text/plain": [
              "846"
            ]
          },
          "metadata": {},
          "execution_count": 109
        }
      ]
    },
    {
      "cell_type": "code",
      "source": [
        "#Answer is C"
      ],
      "metadata": {
        "id": "kQv1ib-bylB6"
      },
      "execution_count": null,
      "outputs": []
    }
  ]
}